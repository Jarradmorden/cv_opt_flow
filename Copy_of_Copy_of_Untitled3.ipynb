{
  "nbformat": 4,
  "nbformat_minor": 0,
  "metadata": {
    "colab": {
      "provenance": [],
      "authorship_tag": "ABX9TyOffi70YluLf+LmlISQQsG2",
      "include_colab_link": true
    },
    "kernelspec": {
      "name": "python3",
      "display_name": "Python 3"
    },
    "language_info": {
      "name": "python"
    }
  },
  "cells": [
    {
      "cell_type": "markdown",
      "metadata": {
        "id": "view-in-github",
        "colab_type": "text"
      },
      "source": [
        "<a href=\"https://colab.research.google.com/github/Jarradmorden/cv_opt_flow/blob/master/Copy_of_Copy_of_Untitled3.ipynb\" target=\"_parent\"><img src=\"https://colab.research.google.com/assets/colab-badge.svg\" alt=\"Open In Colab\"/></a>"
      ]
    },
    {
      "cell_type": "code",
      "source": [
        "\n",
        "import numpy as np\n",
        "import matplotlib.pyplot as plt\n",
        "import matplotlib.image as mpimg\n",
        "import cv2 as cv2\n",
        "import glob\n",
        "import os"
      ],
      "metadata": {
        "id": "yD2CX_r3n7bw"
      },
      "execution_count": null,
      "outputs": []
    },
    {
      "cell_type": "code",
      "source": [
        "!pip3 install stereovision"
      ],
      "metadata": {
        "colab": {
          "base_uri": "https://localhost:8080/"
        },
        "id": "1e2aWeByD--c",
        "outputId": "a69ce6f8-bd7a-4383-fae8-d19e130af1d5"
      },
      "execution_count": null,
      "outputs": [
        {
          "output_type": "stream",
          "name": "stdout",
          "text": [
            "Looking in indexes: https://pypi.org/simple, https://us-python.pkg.dev/colab-wheels/public/simple/\n",
            "Collecting stereovision\n",
            "  Downloading StereoVision-1.0.4.tar.gz (37 kB)\n",
            "Building wheels for collected packages: stereovision\n",
            "  Building wheel for stereovision (setup.py) ... \u001b[?25l\u001b[?25hdone\n",
            "  Created wheel for stereovision: filename=StereoVision-1.0.4-py3-none-any.whl size=38340 sha256=33e36fafbf9b47befe50b0f4b3ac65abbbb488573ce8a75a29493fb0b0b97013\n",
            "  Stored in directory: /root/.cache/pip/wheels/a3/7d/6f/920075d719d2ebc6b60d243b3715ccc6955d2fc8ef015ac889\n",
            "Successfully built stereovision\n",
            "Installing collected packages: stereovision\n",
            "Successfully installed stereovision-1.0.4\n"
          ]
        }
      ]
    },
    {
      "cell_type": "code",
      "source": [
        "from stereovision.calibration import StereoCalibrator\n",
        "from stereovision.calibration import StereoCalibration\n",
        "from stereovision.exceptions import ChessboardNotFoundError"
      ],
      "metadata": {
        "id": "XOmoX_iTEA6j"
      },
      "execution_count": null,
      "outputs": []
    },
    {
      "cell_type": "code",
      "execution_count": null,
      "metadata": {
        "id": "iuf3ACD_nzrK"
      },
      "outputs": [],
      "source": [
        "#! Rows of the chessboard, columns of the chessboard, size of each square in \"MM (40mm) = (4CM) CM\"\n",
        "\n",
        "i_rows = 9\n",
        "i_columns = 7\n",
        "i_chess_square_size = 40 #expressed in mm\n",
        "img_res = (2028, 1529) # Image resolution is the detail an image holds\n",
        "\n",
        "\n",
        "obj_points = np.zeros((i_rows*i_columns,3), np.float32) #this creates an empty matrix, representing empty x y z coordinates of every intersection\n",
        "obj_points[:,:2] = np.mgrid[0:i_columns, 0:i_rows].T.reshape(-1,2)*i_chess_square_size #these coordinates are in world coordinates X, Y, Z (3D) they represent the location of the intersections.\n"
      ]
    },
    {
      "cell_type": "code",
      "source": [],
      "metadata": {
        "id": "qHdAfHYzH6t0"
      },
      "execution_count": null,
      "outputs": []
    },
    {
      "cell_type": "code",
      "source": [
        "obj_stereo_calibrator = StereoCalibrator(i_rows, i_columns, i_chess_square_size, img_res) # Call the Stereo Calibrator Object"
      ],
      "metadata": {
        "id": "t3qjz5uXn4pK"
      },
      "execution_count": null,
      "outputs": []
    },
    {
      "cell_type": "code",
      "source": [
        "i_counter = 0 #initialize counter to count each image of the chessboard I take\n",
        "i_total_photos= 30 #represents the amount of chessboard images I will use for callibration (The more the merrier)"
      ],
      "metadata": {
        "id": "4Jg6cTlxoAwx"
      },
      "execution_count": null,
      "outputs": []
    },
    {
      "cell_type": "code",
      "source": [
        "import cv2\n",
        "\n",
        "criteria = (cv2.TERM_CRITERIA_EPS + cv2.TERM_CRITERIA_MAX_ITER, 30, 0.001)\n",
        "cap = cv2.VideoCapture(0)\n",
        "cap2 = cv2.VideoCapture(2)\n",
        "\n",
        "num = 0\n",
        "fps = 40\n",
        "\n",
        "while cap.isOpened():\n",
        "\n",
        "    succes1, img = cap.read()\n",
        "    succes2, img2 = cap2.read()\n",
        "\n",
        "    k = cv2.waitKey(5)\n",
        "\n",
        "    if k == 27:\n",
        "        break\n",
        "    elif k == ord('s'): # wait for 's' key to save and exit\n",
        "        cv2.imwrite('images/chessboard_stereo_left/imageL' + str(num) + '.png', img)\n",
        "        cv2.imwrite('images/chessboard_stereo_right/imageR' + str(num) + '.png', img2)\n",
        "        print(\"Image:\"+ str(num) + '.png', img, \"saved\")\n",
        "        print(\"Image:\"+ str(num) + '.png', img2, \"saved\")\n",
        "        num += 1\n",
        "\n",
        "    cv2.imshow('Img 1',img)\n",
        "    cv2.imshow('Img 2',img2)\n",
        "\n",
        "# Release and destroy all windows before termination\n",
        "cap.release()\n",
        "cap2.release()\n",
        "\n",
        "cv2.destroyAllWindows()"
      ],
      "metadata": {
        "id": "ZEBUrD6RFvpP"
      },
      "execution_count": null,
      "outputs": []
    },
    {
      "cell_type": "code",
      "metadata": {
        "id": "xIxCqzRmxnrD"
      },
      "source": [],
      "execution_count": null,
      "outputs": []
    },
    {
      "cell_type": "code",
      "source": [],
      "metadata": {
        "id": "8ptC6rAuMhqI"
      },
      "execution_count": null,
      "outputs": []
    }
  ]
}